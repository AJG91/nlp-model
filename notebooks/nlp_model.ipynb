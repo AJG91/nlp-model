{
 "cells": [
  {
   "cell_type": "code",
   "execution_count": 1,
   "id": "90f6d6fe-b7f0-4e52-88bf-6aaf84d4674f",
   "metadata": {},
   "outputs": [],
   "source": [
    "import os\n",
    "import json\n",
    "import torch as tc\n",
    "from datasets import load_dataset\n",
    "from transformers import (\n",
    "AutoModelForSequenceClassification, \n",
    "Trainer, TrainingArguments, AutoTokenizer\n",
    ")\n",
    "from nlp_model.utils import set_seed, generate_namespace\n",
    "from nlp_model.model import ModelAndTokenizer\n",
    "from nlp_model.metrics import compute_metrics\n",
    "from nlp_model.plots import *\n",
    "\n",
    "os.environ[\"TOKENIZERS_PARALLELISM\"] = \"false\"\n",
    "\n",
    "%matplotlib inline\n",
    "%load_ext autoreload\n",
    "%autoreload 2"
   ]
  },
  {
   "cell_type": "code",
   "execution_count": 2,
   "id": "992f27aa-d45f-4843-bd9b-97b2b8a8d866",
   "metadata": {},
   "outputs": [
    {
     "name": "stdout",
     "output_type": "stream",
     "text": [
      "{\n",
      "  \"model_name\": \"distilbert-base-uncased\",\n",
      "  \"text\": \"Let's work on a coding problem!\",\n",
      "  \"seed\": 42,\n",
      "  \"dpi\": 400,\n",
      "  \"fig_path\": \"../outputs/\",\n",
      "  \"log_path\": \"../experiments/\",\n",
      "  \"res_path\": \"../results/\"\n",
      "}\n"
     ]
    }
   ],
   "source": [
    "cfg = generate_namespace(path=f\"../config.yaml\")\n",
    "print(json.dumps(vars(cfg), indent=2))\n",
    "\n",
    "set_seed(cfg.seed)"
   ]
  },
  {
   "cell_type": "code",
   "execution_count": 3,
   "id": "8c274f0c-dd79-492b-b6b7-8dde4734bbd6",
   "metadata": {},
   "outputs": [
    {
     "name": "stderr",
     "output_type": "stream",
     "text": [
      "Some weights of DistilBertForSequenceClassification were not initialized from the model checkpoint at distilbert-base-uncased and are newly initialized: ['classifier.bias', 'classifier.weight', 'pre_classifier.bias', 'pre_classifier.weight']\n",
      "You should probably TRAIN this model on a down-stream task to be able to use it for predictions and inference.\n"
     ]
    },
    {
     "name": "stdout",
     "output_type": "stream",
     "text": [
      "{'input_ids': tensor([[  101,  2292,  1005,  1055,  2147,  2006,  1037, 16861,  3291,   999,\n",
      "           102]], device='mps:0'), 'attention_mask': tensor([[1, 1, 1, 1, 1, 1, 1, 1, 1, 1, 1]], device='mps:0')}\n"
     ]
    }
   ],
   "source": [
    "inst = ModelAndTokenizer(cfg.model_name)\n",
    "model = inst.load_classification_model(attentions=True)\n",
    "inputs = inst.load_tokenizer(cfg.text)\n",
    "print(inputs)"
   ]
  },
  {
   "cell_type": "code",
   "execution_count": 4,
   "id": "4332f008-c576-4062-9ee4-78e9060cd0a4",
   "metadata": {},
   "outputs": [
    {
     "name": "stdout",
     "output_type": "stream",
     "text": [
      "Last hidden state shape: torch.Size([1, 11, 768])\n",
      "Attention len: 6\n"
     ]
    }
   ],
   "source": [
    "with tc.no_grad():\n",
    "    outputs = model(**inputs)\n",
    "    outputs_base = model.base_model(**inputs)\n",
    "    \n",
    "print(f\"Last hidden state shape: {outputs_base.last_hidden_state.shape}\")\n",
    "print(f\"Attention len: {len(outputs.attentions)}\")"
   ]
  },
  {
   "cell_type": "code",
   "execution_count": 5,
   "id": "40ec7a3f-574b-4694-9bf9-b84a1d0a6705",
   "metadata": {},
   "outputs": [
    {
     "data": {
      "application/vnd.jupyter.widget-view+json": {
       "model_id": "43a5d29f324a4ec7a4af5be35e3fc614",
       "version_major": 2,
       "version_minor": 0
      },
      "text/plain": [
       "Map:   0%|          | 0/25000 [00:00<?, ? examples/s]"
      ]
     },
     "metadata": {},
     "output_type": "display_data"
    },
    {
     "data": {
      "application/vnd.jupyter.widget-view+json": {
       "model_id": "0da0f5ea69f74824bfdec2ff14a9fa33",
       "version_major": 2,
       "version_minor": 0
      },
      "text/plain": [
       "Map:   0%|          | 0/25000 [00:00<?, ? examples/s]"
      ]
     },
     "metadata": {},
     "output_type": "display_data"
    },
    {
     "data": {
      "application/vnd.jupyter.widget-view+json": {
       "model_id": "ee0d1f6424db4b62a2b07bf227086e59",
       "version_major": 2,
       "version_minor": 0
      },
      "text/plain": [
       "Map:   0%|          | 0/50000 [00:00<?, ? examples/s]"
      ]
     },
     "metadata": {},
     "output_type": "display_data"
    },
    {
     "name": "stdout",
     "output_type": "stream",
     "text": [
      "DatasetDict({\n",
      "    train: Dataset({\n",
      "        features: ['label', 'input_ids', 'attention_mask'],\n",
      "        num_rows: 25000\n",
      "    })\n",
      "    test: Dataset({\n",
      "        features: ['label', 'input_ids', 'attention_mask'],\n",
      "        num_rows: 25000\n",
      "    })\n",
      "    unsupervised: Dataset({\n",
      "        features: ['label', 'input_ids', 'attention_mask'],\n",
      "        num_rows: 50000\n",
      "    })\n",
      "})\n"
     ]
    }
   ],
   "source": [
    "data = \"imdb\"\n",
    "dataset = load_dataset(data)\n",
    "\n",
    "# Applies the tokenizer to all samples\n",
    "imdb_tokenized = inst.apply_tokenizer(dataset)\n",
    "# data_collator = inst.data_collator()\n",
    "print(imdb_tokenized)"
   ]
  },
  {
   "cell_type": "code",
   "execution_count": 6,
   "id": "12d68936-93e2-4ad9-9be2-32fff58f6aa4",
   "metadata": {},
   "outputs": [
    {
     "name": "stderr",
     "output_type": "stream",
     "text": [
      "Some weights of DistilBertForSequenceClassification were not initialized from the model checkpoint at distilbert-base-uncased and are newly initialized: ['classifier.bias', 'classifier.weight', 'pre_classifier.bias', 'pre_classifier.weight']\n",
      "You should probably TRAIN this model on a down-stream task to be able to use it for predictions and inference.\n"
     ]
    },
    {
     "data": {
      "text/html": [
       "\n",
       "    <div>\n",
       "      \n",
       "      <progress value='750' max='750' style='width:300px; height:20px; vertical-align: middle;'></progress>\n",
       "      [750/750 25:50, Epoch 3/3]\n",
       "    </div>\n",
       "    <table border=\"1\" class=\"dataframe\">\n",
       "  <thead>\n",
       " <tr style=\"text-align: left;\">\n",
       "      <th>Epoch</th>\n",
       "      <th>Training Loss</th>\n",
       "      <th>Validation Loss</th>\n",
       "      <th>Accuracy</th>\n",
       "      <th>F1</th>\n",
       "    </tr>\n",
       "  </thead>\n",
       "  <tbody>\n",
       "    <tr>\n",
       "      <td>1</td>\n",
       "      <td>No log</td>\n",
       "      <td>0.367498</td>\n",
       "      <td>0.861000</td>\n",
       "      <td>0.860149</td>\n",
       "    </tr>\n",
       "    <tr>\n",
       "      <td>2</td>\n",
       "      <td>0.310400</td>\n",
       "      <td>0.407399</td>\n",
       "      <td>0.885000</td>\n",
       "      <td>0.884804</td>\n",
       "    </tr>\n",
       "    <tr>\n",
       "      <td>3</td>\n",
       "      <td>0.310400</td>\n",
       "      <td>0.440489</td>\n",
       "      <td>0.884000</td>\n",
       "      <td>0.883987</td>\n",
       "    </tr>\n",
       "  </tbody>\n",
       "</table><p>"
      ],
      "text/plain": [
       "<IPython.core.display.HTML object>"
      ]
     },
     "metadata": {},
     "output_type": "display_data"
    },
    {
     "data": {
      "text/plain": [
       "TrainOutput(global_step=750, training_loss=0.24459436798095704, metrics={'train_runtime': 1552.5047, 'train_samples_per_second': 3.865, 'train_steps_per_second': 0.483, 'total_flos': 794804391936000.0, 'train_loss': 0.24459436798095704, 'epoch': 3.0})"
      ]
     },
     "execution_count": 6,
     "metadata": {},
     "output_type": "execute_result"
    }
   ],
   "source": [
    "# Loads DistilBERT with a classification head on top\n",
    "model = inst.load_classification_model()\n",
    "\n",
    "# Arguments that will be passed into training\n",
    "# Controls how training is done\n",
    "training_args = TrainingArguments(\n",
    "    output_dir=cfg.res_path,\n",
    "    logging_dir=cfg.log_path,\n",
    "    eval_strategy=\"epoch\",\n",
    "    save_strategy= \"epoch\",\n",
    "    learning_rate=2e-5,\n",
    "    per_device_train_batch_size=8,\n",
    "    num_train_epochs=3,\n",
    "    load_best_model_at_end=True,\n",
    "    # use_cpu=True\n",
    ")\n",
    "\n",
    "# High training wrapper for Hugging Face\n",
    "trainer = Trainer(\n",
    "    model=model,\n",
    "    args=training_args,\n",
    "    train_dataset=imdb_tokenized[\"train\"].shuffle(seed=42).select(range(2000)),\n",
    "    eval_dataset=imdb_tokenized[\"test\"].shuffle(seed=42).select(range(1000)),\n",
    "    processing_class=inst.tokenizer,\n",
    "    compute_metrics=compute_metrics,\n",
    "    # data_collator=data_collator\n",
    ")\n",
    "\n",
    "trainer.train()"
   ]
  },
  {
   "cell_type": "code",
   "execution_count": 10,
   "id": "c25f43a2-759e-4a14-8662-e125327ec177",
   "metadata": {},
   "outputs": [
    {
     "data": {
      "text/html": [],
      "text/plain": [
       "<IPython.core.display.HTML object>"
      ]
     },
     "metadata": {},
     "output_type": "display_data"
    },
    {
     "name": "stdout",
     "output_type": "stream",
     "text": [
      "{'test_loss': 0.5705081820487976, 'test_accuracy': 0.772, 'test_f1': 0.871331828442438, 'test_runtime': 15.6684, 'test_samples_per_second': 15.956, 'test_steps_per_second': 2.042}\n"
     ]
    }
   ],
   "source": [
    "preds = trainer.predict(imdb_tokenized[\"test\"].select(range(250)))\n",
    "print(preds.metrics)\n",
    "\n",
    "y_true = preds.label_ids\n",
    "y_prob = preds.predictions[:, 1]\n",
    "y_pred = (y_prob > 0.5).astype(int)"
   ]
  },
  {
   "cell_type": "code",
   "execution_count": 11,
   "id": "3094d5c1-9163-4a6a-aa7f-e28dfb937e9b",
   "metadata": {},
   "outputs": [
    {
     "data": {
      "image/png": "[encoded data removed]",
      "text/plain": [
       "<Figure size 640x480 with 2 Axes>"
      ]
     },
     "metadata": {},
     "output_type": "display_data"
    }
   ],
   "source": [
    "compute_confusion_matrix(y_true, y_pred, cfg.fig_path, cfg.dpi)"
   ]
  },
  {
   "cell_type": "code",
   "execution_count": 12,
   "id": "e33ae7f8-0bd1-4b78-a6e7-9824eab38ed9",
   "metadata": {},
   "outputs": [
    {
     "name": "stdout",
     "output_type": "stream",
     "text": [
      "Text: 'That movie was absolutely fantastic!'\n",
      "Probabilities: tensor([0.0454, 0.9546])\n",
      "Predicted sentiment: positive (0.95 confidence)\n",
      "\n",
      "Text: 'I will never watch this again!'\n",
      "Probabilities: tensor([0.7860, 0.2140])\n",
      "Predicted sentiment: negative (0.79 confidence)\n",
      "\n",
      "Text: 'Highly recommend to never watch again.'\n",
      "Probabilities: tensor([0.3029, 0.6971])\n",
      "Predicted sentiment: positive (0.70 confidence)\n",
      "\n",
      "Text: 'Fantastic movie'\n",
      "Probabilities: tensor([0.1142, 0.8858])\n",
      "Predicted sentiment: positive (0.89 confidence)\n",
      "\n",
      "Text: 'I kept wondering when it would be over.'\n",
      "Probabilities: tensor([0.7454, 0.2546])\n",
      "Predicted sentiment: negative (0.75 confidence)\n",
      "\n",
      "Text: 'You couldn't pay me to watch it again.'\n",
      "Probabilities: tensor([0.8822, 0.1178])\n",
      "Predicted sentiment: negative (0.88 confidence)\n",
      "\n"
     ]
    }
   ],
   "source": [
    "new_text = [\n",
    "    \"That movie was absolutely fantastic!\",\n",
    "    \"I will never watch this again!\",\n",
    "    \"Highly recommend to never watch again.\",\n",
    "    \"Fantastic movie\",\n",
    "    \"I kept wondering when it would be over.\",\n",
    "    \"You couldn't pay me to watch it again.\"\n",
    "]\n",
    "inputs = inst.load_tokenizer(new_text)\n",
    "\n",
    "model.eval()\n",
    "with tc.no_grad():\n",
    "    outputs = model(**inputs)\n",
    "    \n",
    "probs = tc.nn.functional.softmax(outputs.logits.to(\"cpu\"), dim=-1)\n",
    "predicted_classes = tc.argmax(probs, dim=-1)\n",
    "labels = [\"negative\", \"positive\"]\n",
    "\n",
    "for text, pred_idx, prob in zip(new_text, predicted_classes, probs):\n",
    "    print(f\"Text: '{text}'\")\n",
    "    print(f\"Probabilities: {prob}\")\n",
    "    print(f\"Predicted sentiment: {labels[pred_idx]} ({prob[pred_idx].item():.2f} confidence)\\n\")"
   ]
  },
  {
   "cell_type": "code",
   "execution_count": null,
   "id": "eb6ab940-fdeb-40aa-8593-72a12e3345ee",
   "metadata": {},
   "outputs": [],
   "source": []
  }
 ],
 "metadata": {
  "kernelspec": {
   "display_name": "Python 3 (ipykernel)",
   "language": "python",
   "name": "python3"
  },
  "language_info": {
   "codemirror_mode": {
    "name": "ipython",
    "version": 3
   },
   "file_extension": ".py",
   "mimetype": "text/x-python",
   "name": "python",
   "nbconvert_exporter": "python",
   "pygments_lexer": "ipython3",
   "version": "3.12.11"
  }
 },
 "nbformat": 4,
 "nbformat_minor": 5
}
