{
 "cells": [
  {
   "cell_type": "code",
   "execution_count": 1,
   "id": "90f6d6fe-b7f0-4e52-88bf-6aaf84d4674f",
   "metadata": {},
   "outputs": [],
   "source": [
    "import os\n",
    "import json\n",
    "import torch as tc\n",
    "from datasets import load_dataset\n",
    "from transformers import (\n",
    "AutoModelForSequenceClassification, \n",
    "Trainer, TrainingArguments, AutoTokenizer\n",
    ")\n",
    "from nlp_model.utils import to_device, get_device, set_seed, generate_namespace\n",
    "from nlp_model.model import ModelAndTokenizer\n",
    "\n",
    "os.environ[\"TOKENIZERS_PARALLELISM\"] = \"false\"\n",
    "\n",
    "%matplotlib inline\n",
    "%load_ext autoreload\n",
    "%autoreload 2"
   ]
  },
  {
   "cell_type": "code",
   "execution_count": 2,
   "id": "992f27aa-d45f-4843-bd9b-97b2b8a8d866",
   "metadata": {},
   "outputs": [
    {
     "name": "stdout",
     "output_type": "stream",
     "text": [
      "{\n",
      "  \"model_name\": \"distilbert-base-uncased\",\n",
      "  \"text\": \"Let's work on a coding problem!\",\n",
      "  \"seed\": 42,\n",
      "  \"dpi\": 400,\n",
      "  \"fig_path\": \"../outputs/\",\n",
      "  \"res_path\": \"../results/\"\n",
      "}\n"
     ]
    }
   ],
   "source": [
    "cfg = generate_namespace(path=f\"../config.yaml\")\n",
    "print(json.dumps(vars(cfg), indent=2))\n",
    "\n",
    "set_seed(cfg.seed)\n",
    "device = get_device()"
   ]
  },
  {
   "cell_type": "code",
   "execution_count": 3,
   "id": "8c274f0c-dd79-492b-b6b7-8dde4734bbd6",
   "metadata": {},
   "outputs": [
    {
     "name": "stderr",
     "output_type": "stream",
     "text": [
      "Some weights of DistilBertForSequenceClassification were not initialized from the model checkpoint at distilbert-base-uncased and are newly initialized: ['classifier.bias', 'classifier.weight', 'pre_classifier.bias', 'pre_classifier.weight']\n",
      "You should probably TRAIN this model on a down-stream task to be able to use it for predictions and inference.\n"
     ]
    },
    {
     "name": "stdout",
     "output_type": "stream",
     "text": [
      "{'input_ids': tensor([[  101,  2292,  1005,  1055,  2147,  2006,  1037, 16861,  3291,   999,\n",
      "           102]], device='mps:0'), 'attention_mask': tensor([[1, 1, 1, 1, 1, 1, 1, 1, 1, 1, 1]], device='mps:0')}\n"
     ]
    }
   ],
   "source": [
    "inst = ModelAndTokenizer(cfg.model_name)\n",
    "model = inst.load_classification_model(attentions=True)\n",
    "inputs = inst.load_tokenizer(cfg.text)\n",
    "print(inputs)"
   ]
  },
  {
   "cell_type": "code",
   "execution_count": 4,
   "id": "0e7b8e4e-fe5b-4d9b-b417-ebaf572ba834",
   "metadata": {},
   "outputs": [
    {
     "data": {
      "text/plain": [
       "\"let ' s work on a coding problem!\""
      ]
     },
     "execution_count": 4,
     "metadata": {},
     "output_type": "execute_result"
    }
   ],
   "source": [
    "inst.decode_tokens(inputs[\"input_ids\"], skip_special_tokens=True)[0]"
   ]
  },
  {
   "cell_type": "code",
   "execution_count": 5,
   "id": "4332f008-c576-4062-9ee4-78e9060cd0a4",
   "metadata": {},
   "outputs": [
    {
     "name": "stdout",
     "output_type": "stream",
     "text": [
      "Last hidden state shape: torch.Size([1, 11, 768])\n",
      "Attention len: 6\n"
     ]
    }
   ],
   "source": [
    "with tc.no_grad():\n",
    "    outputs = model(**inputs)\n",
    "    outputs_base = model.base_model(**inputs)\n",
    "    \n",
    "print(f\"Last hidden state shape: {outputs_base.last_hidden_state.shape}\")\n",
    "print(f\"Attention len: {len(outputs.attentions)}\")"
   ]
  },
  {
   "cell_type": "code",
   "execution_count": 6,
   "id": "40ec7a3f-574b-4694-9bf9-b84a1d0a6705",
   "metadata": {},
   "outputs": [
    {
     "name": "stdout",
     "output_type": "stream",
     "text": [
      "DatasetDict({\n",
      "    train: Dataset({\n",
      "        features: ['text', 'label', 'input_ids', 'attention_mask'],\n",
      "        num_rows: 25000\n",
      "    })\n",
      "    test: Dataset({\n",
      "        features: ['text', 'label', 'input_ids', 'attention_mask'],\n",
      "        num_rows: 25000\n",
      "    })\n",
      "    unsupervised: Dataset({\n",
      "        features: ['text', 'label', 'input_ids', 'attention_mask'],\n",
      "        num_rows: 50000\n",
      "    })\n",
      "})\n"
     ]
    }
   ],
   "source": [
    "data = \"imdb\"\n",
    "dataset = load_dataset(data)\n",
    "\n",
    "# Applies the tokenizer to all samples\n",
    "imdb_tokenized = inst.apply_tokenizer(dataset)\n",
    "print(imdb_tokenized)"
   ]
  },
  {
   "cell_type": "code",
   "execution_count": 7,
   "id": "12d68936-93e2-4ad9-9be2-32fff58f6aa4",
   "metadata": {},
   "outputs": [
    {
     "name": "stderr",
     "output_type": "stream",
     "text": [
      "Some weights of DistilBertForSequenceClassification were not initialized from the model checkpoint at distilbert-base-uncased and are newly initialized: ['classifier.bias', 'classifier.weight', 'pre_classifier.bias', 'pre_classifier.weight']\n",
      "You should probably TRAIN this model on a down-stream task to be able to use it for predictions and inference.\n"
     ]
    }
   ],
   "source": [
    "# Loads DistilBERT with a classification head on top\n",
    "model = inst.load_classification_model()\n",
    "\n",
    "# Arguments that will be passed into training\n",
    "# Controls how training is done\n",
    "training_args = TrainingArguments(\n",
    "    output_dir=cfg.res_path,\n",
    "    eval_strategy=\"epoch\",\n",
    "    per_device_train_batch_size=8,\n",
    "    num_train_epochs=1\n",
    ")\n",
    "\n",
    "# High training wrapper for Hugging Face\n",
    "trainer = Trainer(\n",
    "    model=model,\n",
    "    args=training_args,\n",
    "    train_dataset=imdb_tokenized[\"train\"].shuffle(seed=42).select(range(2000)),\n",
    "    eval_dataset=imdb_tokenized[\"test\"].shuffle(seed=42).select(range(1000)),\n",
    "    processing_class=inst.tokenizer\n",
    ")"
   ]
  },
  {
   "cell_type": "code",
   "execution_count": 8,
   "id": "c25f43a2-759e-4a14-8662-e125327ec177",
   "metadata": {},
   "outputs": [
    {
     "data": {
      "text/html": [
       "\n",
       "    <div>\n",
       "      \n",
       "      <progress value='250' max='250' style='width:300px; height:20px; vertical-align: middle;'></progress>\n",
       "      [250/250 08:17, Epoch 1/1]\n",
       "    </div>\n",
       "    <table border=\"1\" class=\"dataframe\">\n",
       "  <thead>\n",
       " <tr style=\"text-align: left;\">\n",
       "      <th>Epoch</th>\n",
       "      <th>Training Loss</th>\n",
       "      <th>Validation Loss</th>\n",
       "    </tr>\n",
       "  </thead>\n",
       "  <tbody>\n",
       "    <tr>\n",
       "      <td>1</td>\n",
       "      <td>No log</td>\n",
       "      <td>0.299470</td>\n",
       "    </tr>\n",
       "  </tbody>\n",
       "</table><p>"
      ],
      "text/plain": [
       "<IPython.core.display.HTML object>"
      ]
     },
     "metadata": {},
     "output_type": "display_data"
    },
    {
     "data": {
      "text/html": [],
      "text/plain": [
       "<IPython.core.display.HTML object>"
      ]
     },
     "metadata": {},
     "output_type": "display_data"
    },
    {
     "name": "stdout",
     "output_type": "stream",
     "text": [
      "{'test_loss': 0.4278165102005005, 'test_runtime': 3.4375, 'test_samples_per_second': 14.545, 'test_steps_per_second': 2.036}\n"
     ]
    }
   ],
   "source": [
    "# Trains model; logs everything to \"../results\"\n",
    "trainer.train()\n",
    "preds = trainer.predict(imdb_tokenized[\"test\"].select(range(50)))\n",
    "print(preds.metrics)"
   ]
  },
  {
   "cell_type": "code",
   "execution_count": 11,
   "id": "5ec452ee-2cd3-4488-b6df-1402a9c24b4b",
   "metadata": {},
   "outputs": [
    {
     "name": "stdout",
     "output_type": "stream",
     "text": [
      "Text: 'That movie was absolutely fantastic!'\n",
      "Probabilities: tensor([0.0242, 0.9758])\n",
      "Predicted sentiment: positive (0.98 confidence)\n",
      "\n",
      "Text: 'This movie sucks'\n",
      "Probabilities: tensor([0.9261, 0.0739])\n",
      "Predicted sentiment: negative (0.93 confidence)\n",
      "\n",
      "Text: 'I will never watch this again!'\n",
      "Probabilities: tensor([0.8690, 0.1310])\n",
      "Predicted sentiment: negative (0.87 confidence)\n",
      "\n",
      "Text: 'Highly recommend to never watch again'\n",
      "Probabilities: tensor([0.0658, 0.9342])\n",
      "Predicted sentiment: positive (0.93 confidence)\n",
      "\n"
     ]
    }
   ],
   "source": [
    "new_inst = ModelAndTokenizer(cfg.res_path + \"checkpoint-250\")\n",
    "new_model = new_inst.load_classification_model()\n",
    "\n",
    "new_text = [\n",
    "    \"That movie was absolutely fantastic!\",\n",
    "    \"This movie sucks\",\n",
    "    \"I will never watch this again!\",\n",
    "    \"Highly recommend to never watch again\"\n",
    "]\n",
    "inputs = new_inst.load_tokenizer(new_text)\n",
    "\n",
    "new_model.eval()\n",
    "with tc.no_grad():\n",
    "    outputs = new_model(**inputs)\n",
    "    \n",
    "probs = tc.nn.functional.softmax(outputs.logits.to(\"cpu\"), dim=-1)\n",
    "predicted_classes = tc.argmax(probs, dim=-1)\n",
    "labels = [\"negative\", \"positive\"]\n",
    "\n",
    "for text, pred_idx, prob in zip(new_text, predicted_classes, probs):\n",
    "    print(f\"Text: '{text}'\")\n",
    "    print(f\"Probabilities: {prob}\")\n",
    "    print(f\"Predicted sentiment: {labels[pred_idx]} ({prob[pred_idx].item():.2f} confidence)\\n\")"
   ]
  },
  {
   "cell_type": "code",
   "execution_count": null,
   "id": "671b7635-4acb-4396-9b7d-b01d70d2993e",
   "metadata": {},
   "outputs": [],
   "source": []
  }
 ],
 "metadata": {
  "kernelspec": {
   "display_name": "Python 3 (ipykernel)",
   "language": "python",
   "name": "python3"
  },
  "language_info": {
   "codemirror_mode": {
    "name": "ipython",
    "version": 3
   },
   "file_extension": ".py",
   "mimetype": "text/x-python",
   "name": "python",
   "nbconvert_exporter": "python",
   "pygments_lexer": "ipython3",
   "version": "3.12.11"
  }
 },
 "nbformat": 4,
 "nbformat_minor": 5
}
