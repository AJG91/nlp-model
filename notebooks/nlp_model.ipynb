{
 "cells": [
  {
   "cell_type": "code",
   "execution_count": 1,
   "id": "90f6d6fe-b7f0-4e52-88bf-6aaf84d4674f",
   "metadata": {},
   "outputs": [],
   "source": [
    "import os\n",
    "import torch as tc\n",
    "from datasets import load_dataset\n",
    "from transformers import (\n",
    "AutoModel, AutoModelForSequenceClassification, \n",
    "Trainer, TrainingArguments, AutoTokenizer\n",
    ")\n",
    "\n",
    "os.environ[\"TOKENIZERS_PARALLELISM\"] = \"false\"\n",
    "\n",
    "%matplotlib inline\n",
    "%load_ext autoreload\n",
    "%autoreload 2"
   ]
  },
  {
   "cell_type": "code",
   "execution_count": 2,
   "id": "a8f33a52-aa4e-47b3-9c56-c787080e80f0",
   "metadata": {},
   "outputs": [
    {
     "name": "stdout",
     "output_type": "stream",
     "text": [
      "{'input_ids': tensor([[  101,  2292,  1005,  1055,  2147,  2006,  1037, 16861,  3291,   999,\n",
      "           102]]), 'attention_mask': tensor([[1, 1, 1, 1, 1, 1, 1, 1, 1, 1, 1]])}\n"
     ]
    }
   ],
   "source": [
    "test_model = \"distilbert-base-uncased\"\n",
    "text = \"Let's work on a coding problem!\"\n",
    "\n",
    "# AutoTokenizer helps stream-line the proces by using the \n",
    "# correct tokenizer for the model being loaded.\n",
    "# It also ensures the text is pre-processed the same way\n",
    "# the model was trained with\n",
    "tokenizer = AutoTokenizer.from_pretrained(test_model)\n",
    "tokens = tokenizer(\n",
    "    text,\n",
    "    padding=\"longest\",\n",
    "    truncation=\"longest_first\",\n",
    "    return_tensors=\"pt\"\n",
    ")\n",
    "print(tokens)"
   ]
  },
  {
   "cell_type": "code",
   "execution_count": 3,
   "id": "0e7b8e4e-fe5b-4d9b-b417-ebaf572ba834",
   "metadata": {},
   "outputs": [
    {
     "data": {
      "text/plain": [
       "\"let ' s work on a coding problem!\""
      ]
     },
     "execution_count": 3,
     "metadata": {},
     "output_type": "execute_result"
    }
   ],
   "source": [
    "tokenizer.decode(tc.squeeze(tokens[\"input_ids\"]), skip_special_tokens=True)"
   ]
  },
  {
   "cell_type": "code",
   "execution_count": 4,
   "id": "6925170f-7f49-45a1-9574-74d29dace1b6",
   "metadata": {},
   "outputs": [
    {
     "name": "stdout",
     "output_type": "stream",
     "text": [
      "torch.Size([1, 11, 768])\n"
     ]
    }
   ],
   "source": [
    "model = AutoModel.from_pretrained(test_model)\n",
    "outputs = model(**tokens)\n",
    "\n",
    "# (batch_size, seq_len, hidden_dim)\n",
    "embeddings = outputs.last_hidden_state\n",
    "print(embeddings.shape)"
   ]
  },
  {
   "cell_type": "code",
   "execution_count": 5,
   "id": "40ec7a3f-574b-4694-9bf9-b84a1d0a6705",
   "metadata": {},
   "outputs": [
    {
     "name": "stdout",
     "output_type": "stream",
     "text": [
      "DatasetDict({\n",
      "    train: Dataset({\n",
      "        features: ['text', 'label', 'input_ids', 'attention_mask'],\n",
      "        num_rows: 25000\n",
      "    })\n",
      "    test: Dataset({\n",
      "        features: ['text', 'label', 'input_ids', 'attention_mask'],\n",
      "        num_rows: 25000\n",
      "    })\n",
      "    unsupervised: Dataset({\n",
      "        features: ['text', 'label', 'input_ids', 'attention_mask'],\n",
      "        num_rows: 50000\n",
      "    })\n",
      "})\n"
     ]
    }
   ],
   "source": [
    "data = \"imdb\"\n",
    "dataset = load_dataset(data)\n",
    "\n",
    "# Applies the tokenizer to all samples\n",
    "imdb_tokenized = dataset.map(\n",
    "    lambda x: tokenizer(x[\"text\"], truncation=True, padding=\"longest\"), \n",
    "    batched=True\n",
    ")\n",
    "print(imdb_tokenized)"
   ]
  },
  {
   "cell_type": "code",
   "execution_count": 6,
   "id": "97598d13-021c-4d2f-af61-77b00f872833",
   "metadata": {},
   "outputs": [
    {
     "name": "stderr",
     "output_type": "stream",
     "text": [
      "Some weights of DistilBertForSequenceClassification were not initialized from the model checkpoint at distilbert-base-uncased and are newly initialized: ['classifier.bias', 'classifier.weight', 'pre_classifier.bias', 'pre_classifier.weight']\n",
      "You should probably TRAIN this model on a down-stream task to be able to use it for predictions and inference.\n"
     ]
    },
    {
     "data": {
      "text/html": [
       "\n",
       "    <div>\n",
       "      \n",
       "      <progress value='250' max='250' style='width:300px; height:20px; vertical-align: middle;'></progress>\n",
       "      [250/250 12:45, Epoch 1/1]\n",
       "    </div>\n",
       "    <table border=\"1\" class=\"dataframe\">\n",
       "  <thead>\n",
       " <tr style=\"text-align: left;\">\n",
       "      <th>Epoch</th>\n",
       "      <th>Training Loss</th>\n",
       "      <th>Validation Loss</th>\n",
       "    </tr>\n",
       "  </thead>\n",
       "  <tbody>\n",
       "    <tr>\n",
       "      <td>1</td>\n",
       "      <td>No log</td>\n",
       "      <td>0.276476</td>\n",
       "    </tr>\n",
       "  </tbody>\n",
       "</table><p>"
      ],
      "text/plain": [
       "<IPython.core.display.HTML object>"
      ]
     },
     "metadata": {},
     "output_type": "display_data"
    },
    {
     "data": {
      "text/plain": [
       "TrainOutput(global_step=250, training_loss=0.4108782043457031, metrics={'train_runtime': 767.4768, 'train_samples_per_second': 2.606, 'train_steps_per_second': 0.326, 'total_flos': 264934797312000.0, 'train_loss': 0.4108782043457031, 'epoch': 1.0})"
      ]
     },
     "execution_count": 6,
     "metadata": {},
     "output_type": "execute_result"
    }
   ],
   "source": [
    "# Loads DistilBERT with a classification head on top\n",
    "model = AutoModelForSequenceClassification.from_pretrained(test_model, num_labels=2)\n",
    "\n",
    "# Arguments that will be passed into training\n",
    "# Controls how training is done\n",
    "training_args = TrainingArguments(\n",
    "    output_dir=\"../results\",\n",
    "    eval_strategy=\"epoch\",\n",
    "    per_device_train_batch_size=8,\n",
    "    num_train_epochs=1\n",
    ")\n",
    "\n",
    "# High training wrapper for Hugging Face\n",
    "trainer = Trainer(\n",
    "    model=model,\n",
    "    args=training_args,\n",
    "    train_dataset=imdb_tokenized[\"train\"].shuffle(seed=42).select(range(2000)),\n",
    "    eval_dataset=imdb_tokenized[\"test\"].shuffle(seed=42).select(range(1000)),\n",
    "    processing_class=tokenizer\n",
    ")\n",
    "\n",
    "# Trains model; logs everything to \"../results\"\n",
    "trainer.train()"
   ]
  },
  {
   "cell_type": "code",
   "execution_count": 7,
   "id": "c25f43a2-759e-4a14-8662-e125327ec177",
   "metadata": {},
   "outputs": [
    {
     "data": {
      "text/html": [],
      "text/plain": [
       "<IPython.core.display.HTML object>"
      ]
     },
     "metadata": {},
     "output_type": "display_data"
    },
    {
     "name": "stdout",
     "output_type": "stream",
     "text": [
      "{'test_loss': 0.3424946665763855, 'test_runtime': 3.0782, 'test_samples_per_second': 16.243, 'test_steps_per_second': 2.274}\n"
     ]
    }
   ],
   "source": [
    "preds = trainer.predict(imdb_tokenized[\"test\"].select(range(50)))\n",
    "print(preds.metrics)"
   ]
  },
  {
   "cell_type": "code",
   "execution_count": 22,
   "id": "578b2857-a530-4fa3-bf9f-18ffb65f3f84",
   "metadata": {},
   "outputs": [
    {
     "name": "stdout",
     "output_type": "stream",
     "text": [
      "Logits: tensor([[-1.8832,  1.2845]])\n",
      "Probabilities: tensor([[0.0404, 0.9596]])\n",
      "Predicted sentiment: positive (0.96 confidence)\n"
     ]
    }
   ],
   "source": [
    "model_path = \"../results/checkpoint-250\"\n",
    "tokenizer = AutoTokenizer.from_pretrained(model_path)\n",
    "model = AutoModelForSequenceClassification.from_pretrained(model_path)\n",
    "\n",
    "new_text = \"That movie was absolutely fantastic!\"\n",
    "inputs = tokenizer(new_text, return_tensors=\"pt\", truncation=True, padding=True)\n",
    "\n",
    "model.eval()\n",
    "with tc.no_grad():\n",
    "    outputs = model(**inputs)\n",
    "    \n",
    "probs = tc.nn.functional.softmax(outputs.logits, dim=-1)\n",
    "predicted_class = tc.argmax(probs, dim=-1).item()\n",
    "labels = [\"negative\", \"positive\"]\n",
    "\n",
    "print(f\"Logits: {outputs.logits}\")\n",
    "print(f\"Probabilities: {probs}\")\n",
    "print(f\"Predicted sentiment: {labels[predicted_class]} ({probs[0][predicted_class]:.2f} confidence)\")"
   ]
  },
  {
   "cell_type": "code",
   "execution_count": null,
   "id": "230e0e8b-7e96-4374-a172-edec57fb9bbc",
   "metadata": {},
   "outputs": [],
   "source": []
  }
 ],
 "metadata": {
  "kernelspec": {
   "display_name": "Python 3 (ipykernel)",
   "language": "python",
   "name": "python3"
  },
  "language_info": {
   "codemirror_mode": {
    "name": "ipython",
    "version": 3
   },
   "file_extension": ".py",
   "mimetype": "text/x-python",
   "name": "python",
   "nbconvert_exporter": "python",
   "pygments_lexer": "ipython3",
   "version": "3.12.11"
  }
 },
 "nbformat": 4,
 "nbformat_minor": 5
}
